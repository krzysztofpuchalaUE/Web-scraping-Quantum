{
 "cells": [
  {
   "cell_type": "code",
   "execution_count": 1,
   "id": "0764915d-b029-4d16-88b2-6b01dcc4acca",
   "metadata": {
    "tags": []
   },
   "outputs": [
    {
     "name": "stdout",
     "output_type": "stream",
     "text": [
      "    Country/Territory UN Region IMF[1][13]            World Bank[14]  \\\n",
      "    Country/Territory UN Region   Estimate       Year       Estimate   \n",
      "0               World         —  105568776       2023       96513077   \n",
      "1       United States  Americas   26854599       2023       22996100   \n",
      "2               China      Asia   19373586  [n 1]2023       17734063   \n",
      "3               Japan      Asia    4409738       2023        4937422   \n",
      "4             Germany    Europe    4308854       2023        4223116   \n",
      "..                ...       ...        ...        ...            ...   \n",
      "212          Anguilla  Americas          —          —              —   \n",
      "213          Kiribati   Oceania        248       2023            207   \n",
      "214             Nauru   Oceania        151       2023            133   \n",
      "215        Montserrat  Americas          —          —              —   \n",
      "216            Tuvalu   Oceania         65       2023             63   \n",
      "\n",
      "               United Nations[15]             \n",
      "          Year           Estimate       Year  \n",
      "0         2021           85328323       2020  \n",
      "1         2021           23315081       2021  \n",
      "2    [n 3]2021           17734131  [n 1]2021  \n",
      "3         2021            4940878       2021  \n",
      "4         2021            4259935       2021  \n",
      "..         ...                ...        ...  \n",
      "212          —                258       2020  \n",
      "213       2021                181       2020  \n",
      "214       2021                135       2020  \n",
      "215          —                 68       2020  \n",
      "216       2021                 55       2020  \n",
      "\n",
      "[217 rows x 8 columns]\n"
     ]
    }
   ],
   "source": [
    "import pandas as pd\n",
    "\n",
    "data = pd.read_html('https://en.wikipedia.org/wiki/List_of_countries_by_GDP_(nominal)')\n",
    "\n",
    "print(data[2])"
   ]
  },
  {
   "cell_type": "code",
   "execution_count": 2,
   "id": "f86d48b8-65eb-4732-9735-43fe58824aee",
   "metadata": {
    "tags": []
   },
   "outputs": [
    {
     "name": "stdout",
     "output_type": "stream",
     "text": [
      "<!DOCTYPE html>\n",
      "<html lang=\"en\">\n",
      " <head>\n",
      "  <meta charset=\"utf-8\"/>\n",
      "  <meta content=\"IE=edge\" http-equiv=\"X-UA-Compatible\"/>\n",
      "  <meta content=\"width=device-width, initial-scale=1.0\" name=\"viewport\"/>\n",
      "  <title>\n",
      "   Scraping-guide\n",
      "  </title>\n",
      "  <link href=\"styles.css\" rel=\"stylesheet\"/>\n",
      "  <link href=\"https://fonts.googleapis.com\" rel=\"preconnect\"/>\n",
      "  <link crossorigin=\"\" href=\"https://fonts.gstatic.com\" rel=\"preconnect\"/>\n",
      "  <link href=\"https://fonts.googleapis.com/css2?family=Poppins:wght@400;700&amp;display=swap\" rel=\"stylesheet\"/>\n",
      " </head>\n",
      " <body>\n",
      "  <header class=\"main-header\">\n",
      "   <h1>\n",
      "    Beer sales\n",
      "   </h1>\n",
      "  </header>\n",
      "  <section class=\"polish-section\" id=\"polish\">\n",
      "   <div class=\"region-container\">\n",
      "    <h2>\n",
      "     Polish region\n",
      "    </h2>\n",
      "    <div class=\"region-grid\">\n",
      "     <div>\n",
      "      <h4>\n",
      "       Year\n",
      "      </h4>\n",
      "      <h4>\n",
      "       Quantity\n",
      "      </h4>\n",
      "     </div>\n",
      "     <div>\n",
      "      <span>\n",
      "       2020\n",
      "      </span>\n",
      "      <p data-postion=\"first\" id=\"my-first-p-tag\">\n",
      "       190\n",
      "      </p>\n",
      "     </div>\n",
      "     <div>\n",
      "      <span>\n",
      "       2021\n",
      "      </span>\n",
      "      <p>\n",
      "       230\n",
      "      </p>\n",
      "     </div>\n",
      "     <div>\n",
      "      <span>\n",
      "       2022\n",
      "      </span>\n",
      "      <p>\n",
      "       180\n",
      "      </p>\n",
      "     </div>\n",
      "    </div>\n",
      "   </div>\n",
      "  </section>\n",
      "  <section class=\"czech-section\" id=\"czech\">\n",
      "   <div class=\"region-container\">\n",
      "    <h2>\n",
      "     Czech region\n",
      "    </h2>\n",
      "    <div class=\"region-grid\">\n",
      "     <div>\n",
      "      <h4>\n",
      "       Year\n",
      "      </h4>\n",
      "      <h4>\n",
      "       Quantity\n",
      "      </h4>\n",
      "     </div>\n",
      "     <div>\n",
      "      <span>\n",
      "       2020\n",
      "      </span>\n",
      "      <p>\n",
      "       100\n",
      "      </p>\n",
      "     </div>\n",
      "     <div>\n",
      "      <span>\n",
      "       2021\n",
      "      </span>\n",
      "      <p>\n",
      "       120\n",
      "      </p>\n",
      "     </div>\n",
      "     <div>\n",
      "      <span>\n",
      "       2022\n",
      "      </span>\n",
      "      <p>\n",
      "       125\n",
      "      </p>\n",
      "     </div>\n",
      "    </div>\n",
      "   </div>\n",
      "  </section>\n",
      "  <section class=\"slovak-section\" id=\"slovak\">\n",
      "   <div class=\"region-container\">\n",
      "    <h2>\n",
      "     Slovak region\n",
      "    </h2>\n",
      "    <div class=\"region-grid\">\n",
      "     <div>\n",
      "      <h4>\n",
      "       Year\n",
      "      </h4>\n",
      "      <h4>\n",
      "       Quantity\n",
      "      </h4>\n",
      "     </div>\n",
      "     <div>\n",
      "      <span>\n",
      "       2020\n",
      "      </span>\n",
      "      <p>\n",
      "       50\n",
      "      </p>\n",
      "     </div>\n",
      "     <div>\n",
      "      <span>\n",
      "       2021\n",
      "      </span>\n",
      "      <p>\n",
      "       30\n",
      "      </p>\n",
      "     </div>\n",
      "     <div>\n",
      "      <span>\n",
      "       2022\n",
      "      </span>\n",
      "      <p>\n",
      "       90\n",
      "      </p>\n",
      "     </div>\n",
      "    </div>\n",
      "   </div>\n",
      "  </section>\n",
      "  <div id=\"students-list\">\n",
      "  </div>\n",
      "  <!-- <script src=\"script.js\"></script> -->\n",
      " </body>\n",
      "</html>\n",
      "\n"
     ]
    }
   ],
   "source": [
    "from bs4 import BeautifulSoup as bfs\n",
    "\n",
    "with open ('index.html', 'r') as file:\n",
    "    doc = bfs(file, 'html.parser')\n",
    "\n",
    "print(doc.prettify())"
   ]
  },
  {
   "cell_type": "code",
   "execution_count": 3,
   "id": "321f15cd-2e13-4a98-82db-37235128b5c4",
   "metadata": {
    "tags": []
   },
   "outputs": [
    {
     "name": "stdout",
     "output_type": "stream",
     "text": [
      "<p data-postion=\"first\" id=\"my-first-p-tag\">190</p>\n"
     ]
    }
   ],
   "source": [
    "#pierwszy tag\n",
    "\n",
    "first_p_tag = (doc.p)\n",
    "print(first_p_tag)"
   ]
  },
  {
   "cell_type": "code",
   "execution_count": 4,
   "id": "3e43ceba-0b71-4d1e-8af7-95f51b726eef",
   "metadata": {
    "tags": []
   },
   "outputs": [
    {
     "data": {
      "text/plain": [
       "'p'"
      ]
     },
     "execution_count": 4,
     "metadata": {},
     "output_type": "execute_result"
    }
   ],
   "source": [
    "#nazwa tagu\n",
    "\n",
    "first_p_tag.name"
   ]
  },
  {
   "cell_type": "code",
   "execution_count": 5,
   "id": "33ca42c6-5132-465a-871e-3d1db96b8144",
   "metadata": {
    "tags": []
   },
   "outputs": [
    {
     "data": {
      "text/plain": [
       "bs4.element.Tag"
      ]
     },
     "execution_count": 5,
     "metadata": {},
     "output_type": "execute_result"
    }
   ],
   "source": [
    "#typ tagu, bs4 element\n",
    "\n",
    "type(first_p_tag)"
   ]
  },
  {
   "cell_type": "code",
   "execution_count": 6,
   "id": "9035bfc3-499b-408c-b9fc-0eeb439b7d1b",
   "metadata": {
    "tags": []
   },
   "outputs": [
    {
     "name": "stdout",
     "output_type": "stream",
     "text": [
      "[<p data-postion=\"first\" id=\"my-first-p-tag\">190</p>, <p>230</p>, <p>180</p>, <p>100</p>, <p>120</p>, <p>125</p>, <p>50</p>, <p>30</p>, <p>90</p>]\n",
      "<class 'bs4.element.ResultSet'>\n"
     ]
    }
   ],
   "source": [
    "#wszystkie tagi w liście\n",
    "\n",
    "all_p_tags = doc.find_all('p')\n",
    "print(all_p_tags)\n",
    "print(type(all_p_tags))"
   ]
  },
  {
   "cell_type": "code",
   "execution_count": 7,
   "id": "8edf2eed-8364-4b29-960d-1c5091ad81b3",
   "metadata": {
    "tags": []
   },
   "outputs": [
    {
     "name": "stdout",
     "output_type": "stream",
     "text": [
      "{'id': 'my-first-p-tag', 'data-postion': 'first'}\n"
     ]
    }
   ],
   "source": [
    "#dostęp do wszystkich atrybutów\n",
    "\n",
    "print(first_p_tag.attrs)"
   ]
  },
  {
   "cell_type": "code",
   "execution_count": 8,
   "id": "7936caf8-a558-4218-b7c7-d2cb859a6436",
   "metadata": {
    "tags": []
   },
   "outputs": [
    {
     "data": {
      "text/plain": [
       "['region-container']"
      ]
     },
     "execution_count": 8,
     "metadata": {},
     "output_type": "execute_result"
    }
   ],
   "source": [
    "#dostęp do klasy\n",
    "\n",
    "doc.section.div['class']"
   ]
  },
  {
   "cell_type": "code",
   "execution_count": 9,
   "id": "adf7eefd-480d-49b9-89fe-fe6e63722821",
   "metadata": {
    "tags": []
   },
   "outputs": [
    {
     "name": "stdout",
     "output_type": "stream",
     "text": [
      "90\n",
      "90\n",
      "<class 'bs4.element.NavigableString'>\n",
      "<class 'str'>\n",
      "----\n",
      "<p>I love<span> bees</span></p>\n",
      "None\n",
      " bees\n",
      "I love bees\n"
     ]
    }
   ],
   "source": [
    "#tekst\n",
    "\n",
    "for p in all_p_tags:\n",
    "    p_string = p.string\n",
    "    p_text = p.text\n",
    "\n",
    "print(p_string)\n",
    "print(p_text)\n",
    "print(type(p_string))\n",
    "print(type(p_text))\n",
    "print('----')\n",
    "\n",
    "html = '<p>I love<span> bees</span></p>'\n",
    "element = bfs(html, 'html.parser')\n",
    "print(element)\n",
    "print(element.string)\n",
    "print(element.span.string)\n",
    "print(element.text)"
   ]
  },
  {
   "cell_type": "code",
   "execution_count": 10,
   "id": "fa951c4c-b7e8-4310-ae3d-60c6a25bcc70",
   "metadata": {
    "tags": []
   },
   "outputs": [
    {
     "name": "stdout",
     "output_type": "stream",
     "text": [
      "<p data-postion=\"first\" id=\"my-first-p-tag\">200</p>\n"
     ]
    }
   ],
   "source": [
    "first_p_tag.string.replace_with('200') #przy użyciu .text błąd\n",
    "print(first_p_tag)"
   ]
  },
  {
   "cell_type": "code",
   "execution_count": 11,
   "id": "ab2eb448-1ec1-49de-8c64-8bc9b7c5724d",
   "metadata": {
    "tags": []
   },
   "outputs": [
    {
     "data": {
      "text/plain": [
       "['\\n',\n",
       " <div class=\"region-container\">\n",
       " <h2>Polish region</h2>\n",
       " <div class=\"region-grid\">\n",
       " <div>\n",
       " <h4>Year</h4>\n",
       " <h4>Quantity</h4>\n",
       " </div>\n",
       " <div>\n",
       " <span>2020</span>\n",
       " <p data-postion=\"first\" id=\"my-first-p-tag\">200</p>\n",
       " </div>\n",
       " <div>\n",
       " <span>2021</span>\n",
       " <p>230</p>\n",
       " </div>\n",
       " <div>\n",
       " <span>2022</span>\n",
       " <p>180</p>\n",
       " </div>\n",
       " </div>\n",
       " </div>,\n",
       " '\\n']"
      ]
     },
     "execution_count": 11,
     "metadata": {},
     "output_type": "execute_result"
    }
   ],
   "source": [
    "#zawartość tagów\n",
    "\n",
    "doc.section.contents #lista"
   ]
  },
  {
   "cell_type": "code",
   "execution_count": 12,
   "id": "3060de9f-3636-4e1d-8861-7d0bba496d9a",
   "metadata": {
    "tags": []
   },
   "outputs": [
    {
     "name": "stdout",
     "output_type": "stream",
     "text": [
      "\n",
      "\n",
      "<div class=\"region-container\">\n",
      "<h2>Polish region</h2>\n",
      "<div class=\"region-grid\">\n",
      "<div>\n",
      "<h4>Year</h4>\n",
      "<h4>Quantity</h4>\n",
      "</div>\n",
      "<div>\n",
      "<span>2020</span>\n",
      "<p data-postion=\"first\" id=\"my-first-p-tag\">200</p>\n",
      "</div>\n",
      "<div>\n",
      "<span>2021</span>\n",
      "<p>230</p>\n",
      "</div>\n",
      "<div>\n",
      "<span>2022</span>\n",
      "<p>180</p>\n",
      "</div>\n",
      "</div>\n",
      "</div>\n",
      "\n",
      "\n"
     ]
    }
   ],
   "source": [
    "#child elements\n",
    "for child in doc.section:\n",
    "    print(child)"
   ]
  },
  {
   "cell_type": "code",
   "execution_count": 13,
   "id": "0e49f2ed-a017-48ad-9c13-7758b0b2a7b5",
   "metadata": {
    "tags": []
   },
   "outputs": [
    {
     "data": {
      "text/plain": [
       "<div>\n",
       "<span>2020</span>\n",
       "<p data-postion=\"first\" id=\"my-first-p-tag\">200</p>\n",
       "</div>"
      ]
     },
     "execution_count": 13,
     "metadata": {},
     "output_type": "execute_result"
    }
   ],
   "source": [
    "#parent element\n",
    "\n",
    "first_p_tag.parent"
   ]
  },
  {
   "cell_type": "code",
   "execution_count": 14,
   "id": "e0a21a6e-2d47-41c6-9c93-f19ab349aa67",
   "metadata": {
    "tags": []
   },
   "outputs": [
    {
     "name": "stdout",
     "output_type": "stream",
     "text": [
      "'\\n'\n",
      "<h4>Quantity</h4>\n",
      "None\n"
     ]
    }
   ],
   "source": [
    "#next sibling i previous\n",
    "\n",
    "print(repr(doc.h4.next_sibling)) #dzięki repr() widoczne '\\n'\n",
    "print(doc.h4.next_sibling.next_sibling)\n",
    "print(doc.h4.prev_sibling)"
   ]
  },
  {
   "cell_type": "code",
   "execution_count": 15,
   "id": "ba446414-9bd0-42fe-9bf4-ec49f50f50a7",
   "metadata": {
    "tags": []
   },
   "outputs": [
    {
     "name": "stdout",
     "output_type": "stream",
     "text": [
      "\n",
      "\n",
      "<section class=\"czech-section\" id=\"czech\">\n",
      "<div class=\"region-container\">\n",
      "<h2>Czech region</h2>\n",
      "<div class=\"region-grid\">\n",
      "<div>\n",
      "<h4>Year</h4>\n",
      "<h4>Quantity</h4>\n",
      "</div>\n",
      "<div>\n",
      "<span>2020</span>\n",
      "<p>100</p>\n",
      "</div>\n",
      "<div>\n",
      "<span>2021</span>\n",
      "<p>120</p>\n",
      "</div>\n",
      "<div>\n",
      "<span>2022</span>\n",
      "<p>125</p>\n",
      "</div>\n",
      "</div>\n",
      "</div>\n",
      "</section>\n",
      "\n",
      "\n",
      "<section class=\"slovak-section\" id=\"slovak\">\n",
      "<div class=\"region-container\">\n",
      "<h2>Slovak region</h2>\n",
      "<div class=\"region-grid\">\n",
      "<div>\n",
      "<h4>Year</h4>\n",
      "<h4>Quantity</h4>\n",
      "</div>\n",
      "<div>\n",
      "<span>2020</span>\n",
      "<p>50</p>\n",
      "</div>\n",
      "<div>\n",
      "<span>2021</span>\n",
      "<p>30</p>\n",
      "</div>\n",
      "<div>\n",
      "<span>2022</span>\n",
      "<p>90</p>\n",
      "</div>\n",
      "</div>\n",
      "</div>\n",
      "</section>\n",
      "\n",
      "\n",
      "<div id=\"students-list\"></div>\n",
      "\n",
      "\n",
      " <script src=\"script.js\"></script> \n",
      "\n",
      "\n"
     ]
    }
   ],
   "source": [
    "#next siblings\n",
    "\n",
    "for section in doc.section.next_siblings:\n",
    "    print(section)\n"
   ]
  },
  {
   "cell_type": "code",
   "execution_count": 16,
   "id": "d48ae07c-c593-43f9-b2fa-08c4d1b3a333",
   "metadata": {
    "tags": []
   },
   "outputs": [
    {
     "name": "stdout",
     "output_type": "stream",
     "text": [
      "Polish region\n"
     ]
    }
   ],
   "source": [
    "#next/prev element\n",
    "\n",
    "print(doc.h2.next_element)"
   ]
  },
  {
   "cell_type": "code",
   "execution_count": 17,
   "id": "470d9090-9a4e-45e2-9044-ae7dc86f70fb",
   "metadata": {
    "tags": []
   },
   "outputs": [
    {
     "name": "stdout",
     "output_type": "stream",
     "text": [
      "<section class=\"polish-section\" id=\"polish\">\n",
      " <div class=\"region-container\">\n",
      "  <h2>\n",
      "   Polish region\n",
      "  </h2>\n",
      "  <div class=\"region-grid\">\n",
      "   <div>\n",
      "    <h4>\n",
      "     Year\n",
      "    </h4>\n",
      "    <h4>\n",
      "     Quantity\n",
      "    </h4>\n",
      "   </div>\n",
      "   <div>\n",
      "    <span>\n",
      "     2020\n",
      "    </span>\n",
      "    <p data-postion=\"first\" id=\"my-first-p-tag\">\n",
      "     200\n",
      "    </p>\n",
      "   </div>\n",
      "   <div>\n",
      "    <span>\n",
      "     2021\n",
      "    </span>\n",
      "    <p>\n",
      "     230\n",
      "    </p>\n",
      "   </div>\n",
      "   <div>\n",
      "    <span>\n",
      "     2022\n",
      "    </span>\n",
      "    <p>\n",
      "     180\n",
      "    </p>\n",
      "   </div>\n",
      "  </div>\n",
      " </div>\n",
      "</section>\n",
      "\n"
     ]
    }
   ],
   "source": [
    "#znajduje pierwszą sekcję\n",
    "\n",
    "print(doc.find('section').prettify())"
   ]
  },
  {
   "cell_type": "code",
   "execution_count": 29,
   "id": "7a0501f6-9b42-4244-b488-0f5ec65d4be1",
   "metadata": {},
   "outputs": [],
   "source": [
    "#znajduje wszystkie elementy\n",
    "doc.find_all(True)"
   ]
  },
  {
   "cell_type": "code",
   "execution_count": 19,
   "id": "07e06b5b-b53d-4590-936b-cf45134be69c",
   "metadata": {
    "tags": []
   },
   "outputs": [
    {
     "name": "stdout",
     "output_type": "stream",
     "text": [
      "[<div class=\"region-container\">\n",
      "<h2>Polish region</h2>\n",
      "<div class=\"region-grid\">\n",
      "<div>\n",
      "<h4>Year</h4>\n",
      "<h4>Quantity</h4>\n",
      "</div>\n",
      "<div>\n",
      "<span>2020</span>\n",
      "<p data-postion=\"first\" id=\"my-first-p-tag\">200</p>\n",
      "</div>\n",
      "<div>\n",
      "<span>2021</span>\n",
      "<p>230</p>\n",
      "</div>\n",
      "<div>\n",
      "<span>2022</span>\n",
      "<p>180</p>\n",
      "</div>\n",
      "</div>\n",
      "</div>, <div class=\"region-container\">\n",
      "<h2>Czech region</h2>\n",
      "<div class=\"region-grid\">\n",
      "<div>\n",
      "<h4>Year</h4>\n",
      "<h4>Quantity</h4>\n",
      "</div>\n",
      "<div>\n",
      "<span>2020</span>\n",
      "<p>100</p>\n",
      "</div>\n",
      "<div>\n",
      "<span>2021</span>\n",
      "<p>120</p>\n",
      "</div>\n",
      "<div>\n",
      "<span>2022</span>\n",
      "<p>125</p>\n",
      "</div>\n",
      "</div>\n",
      "</div>, <div class=\"region-container\">\n",
      "<h2>Slovak region</h2>\n",
      "<div class=\"region-grid\">\n",
      "<div>\n",
      "<h4>Year</h4>\n",
      "<h4>Quantity</h4>\n",
      "</div>\n",
      "<div>\n",
      "<span>2020</span>\n",
      "<p>50</p>\n",
      "</div>\n",
      "<div>\n",
      "<span>2021</span>\n",
      "<p>30</p>\n",
      "</div>\n",
      "<div>\n",
      "<span>2022</span>\n",
      "<p>90</p>\n",
      "</div>\n",
      "</div>\n",
      "</div>]\n",
      "<class 'bs4.element.ResultSet'>\n"
     ]
    }
   ],
   "source": [
    "#szukanie po css klasie\n",
    "regions = doc.find_all('div', class_ = 'region-container')\n",
    "print(regions)\n",
    "print(type(regions))"
   ]
  },
  {
   "cell_type": "code",
   "execution_count": 20,
   "id": "e2422e33-e49a-4738-b958-6360030e8fa5",
   "metadata": {
    "tags": []
   },
   "outputs": [
    {
     "name": "stdout",
     "output_type": "stream",
     "text": [
      "In Polish region sold 200 units in 2020\n",
      "In Czech region sold 100 units in 2020\n",
      "In Slovak region sold 50 units in 2020\n"
     ]
    }
   ],
   "source": [
    "#znalezienie wielkosci dla 2020 roku dla każdego regionu\n",
    "\n",
    "for region in regions:\n",
    "    print(f'In {region.h2.string} sold {region.p.string} units in {region.span.string}')"
   ]
  },
  {
   "cell_type": "code",
   "execution_count": 21,
   "id": "393ce0aa-aa5a-4360-b478-cf280848371b",
   "metadata": {
    "tags": []
   },
   "outputs": [
    {
     "name": "stdout",
     "output_type": "stream",
     "text": [
      "<div>\n",
      "<span>2020</span>\n",
      "<p data-postion=\"first\" id=\"my-first-p-tag\">200</p>\n",
      "</div>\n"
     ]
    }
   ],
   "source": [
    "#znajdowanie rodzica\n",
    "\n",
    "print(first_p_tag.find_parent('div'))"
   ]
  },
  {
   "cell_type": "code",
   "execution_count": 22,
   "id": "346b96d4-0713-4bbd-a84d-1812aa5346cb",
   "metadata": {
    "tags": []
   },
   "outputs": [
    {
     "name": "stdout",
     "output_type": "stream",
     "text": [
      "<span>2020</span>\n",
      "None\n"
     ]
    }
   ],
   "source": [
    "#znajdowanie tagów na równi\n",
    "\n",
    "print(first_p_tag.find_previous_sibling('span'))\n",
    "print(first_p_tag.find_next_sibling('span'))"
   ]
  },
  {
   "cell_type": "code",
   "execution_count": 23,
   "id": "6c1b6f75-25e2-4570-af2a-75bf15e06aa7",
   "metadata": {
    "tags": []
   },
   "outputs": [
    {
     "name": "stdout",
     "output_type": "stream",
     "text": [
      "['Quantity', 'Quantity', 'Quantity']\n"
     ]
    }
   ],
   "source": [
    "#wyszukiwanie po konkretnej nazwie\n",
    "\n",
    "print(doc.find_all(string = \"Quantity\"))"
   ]
  },
  {
   "cell_type": "code",
   "execution_count": 24,
   "id": "78660600-f92e-43c4-8a6f-1ba1a06f1f9b",
   "metadata": {
    "tags": []
   },
   "outputs": [
    {
     "name": "stdout",
     "output_type": "stream",
     "text": [
      "<p data-postion=\"first\" id=\"my-first-p-tag\">200</p>\n"
     ]
    }
   ],
   "source": [
    "#wyszukiwanie po atrybucie\n",
    "\n",
    "print(doc.find(attrs={'data-postion' : 'first'}))"
   ]
  },
  {
   "cell_type": "code",
   "execution_count": 25,
   "id": "df729076-57ce-48d1-92ba-29ee945dbdc1",
   "metadata": {
    "tags": []
   },
   "outputs": [
    {
     "name": "stdout",
     "output_type": "stream",
     "text": [
      "<p data-postion=\"first\" id=\"my-first-p-tag\">200</p>\n"
     ]
    }
   ],
   "source": [
    "#wyszukiwanie po id\n",
    "\n",
    "print(doc.find(id = 'my-first-p-tag'))"
   ]
  },
  {
   "cell_type": "code",
   "execution_count": 26,
   "id": "13a7d5ea-97ea-4366-bb40-160a4ae5132d",
   "metadata": {
    "tags": []
   },
   "outputs": [
    {
     "name": "stdout",
     "output_type": "stream",
     "text": [
      "[<h2>Polish region</h2>, <h2>Czech region</h2>, <h2>Slovak region</h2>]\n"
     ]
    }
   ],
   "source": [
    "regions = doc.find_all('h2')\n",
    "print(regions)\n",
    "\n",
    "for region in regions:\n",
    "    region.string = 'New region'\n",
    "\n",
    "with open('index-changed.html', 'w') as file:\n",
    "    file.write(str(doc))"
   ]
  },
  {
   "cell_type": "code",
   "execution_count": 27,
   "id": "e9b44b6d-9ba3-406f-9b9e-510c48ef0a1a",
   "metadata": {
    "tags": []
   },
   "outputs": [
    {
     "name": "stdout",
     "output_type": "stream",
     "text": [
      "<!DOCTYPE html>\n",
      "<html lang=\"en\">\n",
      " <head>\n",
      "  <meta charset=\"utf-8\"/>\n",
      "  <meta content=\"IE=edge\" http-equiv=\"X-UA-Compatible\"/>\n",
      "  <meta content=\"width=device-width, initial-scale=1.0\" name=\"viewport\"/>\n",
      "  <title>\n",
      "   Scraping-guide\n",
      "  </title>\n",
      "  <link href=\"styles.css\" rel=\"stylesheet\"/>\n",
      "  <link href=\"https://fonts.googleapis.com\" rel=\"preconnect\"/>\n",
      "  <link crossorigin=\"\" href=\"https://fonts.gstatic.com\" rel=\"preconnect\"/>\n",
      "  <link href=\"https://fonts.googleapis.com/css2?family=Poppins:wght@400;700&amp;display=swap\" rel=\"stylesheet\"/>\n",
      " </head>\n",
      " <body>\n",
      "  <header class=\"main-header\">\n",
      "   <h1>\n",
      "    Beer sales\n",
      "   </h1>\n",
      "  </header>\n",
      "  <section class=\"polish-section\" id=\"polish\">\n",
      "   <div class=\"region-container\">\n",
      "    <h2>\n",
      "     New region\n",
      "    </h2>\n",
      "    <div class=\"region-grid\">\n",
      "     <div>\n",
      "      <h4>\n",
      "       Year\n",
      "      </h4>\n",
      "      <h4>\n",
      "       Quantity\n",
      "      </h4>\n",
      "     </div>\n",
      "     <div>\n",
      "      <span>\n",
      "       2020\n",
      "      </span>\n",
      "      <p data-postion=\"first\" id=\"my-first-p-tag\">\n",
      "       200\n",
      "      </p>\n",
      "     </div>\n",
      "     <div>\n",
      "      <span>\n",
      "       2021\n",
      "      </span>\n",
      "      <p>\n",
      "       230\n",
      "      </p>\n",
      "     </div>\n",
      "     <div>\n",
      "      <span>\n",
      "       2022\n",
      "      </span>\n",
      "      <p>\n",
      "       180\n",
      "      </p>\n",
      "     </div>\n",
      "    </div>\n",
      "   </div>\n",
      "  </section>\n",
      "  <section class=\"czech-section\" id=\"czech\">\n",
      "   <div class=\"region-container\">\n",
      "    <h2>\n",
      "     New region\n",
      "    </h2>\n",
      "    <div class=\"region-grid\">\n",
      "     <div>\n",
      "      <h4>\n",
      "       Year\n",
      "      </h4>\n",
      "      <h4>\n",
      "       Quantity\n",
      "      </h4>\n",
      "     </div>\n",
      "     <div>\n",
      "      <span>\n",
      "       2020\n",
      "      </span>\n",
      "      <p>\n",
      "       100\n",
      "      </p>\n",
      "     </div>\n",
      "     <div>\n",
      "      <span>\n",
      "       2021\n",
      "      </span>\n",
      "      <p>\n",
      "       120\n",
      "      </p>\n",
      "     </div>\n",
      "     <div>\n",
      "      <span>\n",
      "       2022\n",
      "      </span>\n",
      "      <p>\n",
      "       125\n",
      "      </p>\n",
      "     </div>\n",
      "    </div>\n",
      "   </div>\n",
      "  </section>\n",
      "  <section class=\"slovak-section\" id=\"slovak\">\n",
      "   <div class=\"region-container\">\n",
      "    <h2>\n",
      "     New region\n",
      "    </h2>\n",
      "    <div class=\"region-grid\">\n",
      "     <div>\n",
      "      <h4>\n",
      "       Year\n",
      "      </h4>\n",
      "      <h4>\n",
      "       Quantity\n",
      "      </h4>\n",
      "     </div>\n",
      "     <div>\n",
      "      <span>\n",
      "       2020\n",
      "      </span>\n",
      "      <p>\n",
      "       50\n",
      "      </p>\n",
      "     </div>\n",
      "     <div>\n",
      "      <span>\n",
      "       2021\n",
      "      </span>\n",
      "      <p>\n",
      "       30\n",
      "      </p>\n",
      "     </div>\n",
      "     <div>\n",
      "      <span>\n",
      "       2022\n",
      "      </span>\n",
      "      <p>\n",
      "       90\n",
      "      </p>\n",
      "     </div>\n",
      "    </div>\n",
      "   </div>\n",
      "  </section>\n",
      "  <div id=\"students-list\">\n",
      "  </div>\n",
      "  <!-- <script src=\"script.js\"></script> -->\n",
      " </body>\n",
      "</html>\n",
      "\n",
      "[<h2>New region</h2>, <h2>New region</h2>, <h2>New region</h2>]\n"
     ]
    }
   ],
   "source": [
    "with open ('index-changed.html', 'r') as file:\n",
    "    doc = bfs(file, 'html.parser')\n",
    "    print(doc.prettify())\n",
    "    print(doc.find_all('h2'))"
   ]
  },
  {
   "cell_type": "code",
   "execution_count": 1,
   "id": "0a187363-3356-4fc8-b854-1dd68baf085f",
   "metadata": {},
   "outputs": [
    {
     "name": "stdout",
     "output_type": "stream",
     "text": [
      "      obszar                                  lokacja      cena  \\\n",
      "0    slaskie           Katowice, Centrum, Gliwicka 11  555000.0   \n",
      "1    slaskie          Katowice, Centrum, Francuska 14  650000.0   \n",
      "2    slaskie             Nad Kanałem, Zabrze, śląskie  859000.0   \n",
      "3    slaskie             Nad Kanałem, Zabrze, śląskie  495000.0   \n",
      "4    slaskie             Nad Kanałem, Zabrze, śląskie  366000.0   \n",
      "..       ...                                      ...       ...   \n",
      "555  slaskie             Jastrzębska, Rybnik, śląskie  229000.0   \n",
      "556  slaskie                 Barbary, Rybnik, śląskie  159000.0   \n",
      "557  slaskie        Osiedle Południe, Rybnik, śląskie  229000.0   \n",
      "558  slaskie  ul. Opolska 6, Tarnowskie Góry, śląskie  187000.0   \n",
      "559  slaskie           Paderewskiego, Rybnik, śląskie  256000.0   \n",
      "\n",
      "     przestrzeń_m2  cena_m2 ilość_pokoi  \n",
      "0            56.18   9879.0           3  \n",
      "1            96.00   6771.0           2  \n",
      "2           124.89   6878.0           5  \n",
      "3            70.55   7016.0           4  \n",
      "4            46.20   7922.0           3  \n",
      "..             ...      ...         ...  \n",
      "555          80.17   2856.0           3  \n",
      "556          32.07   4958.0           2  \n",
      "557          46.75   4898.0           2  \n",
      "558          32.00   5844.0           2  \n",
      "559          60.30   4245.0           3  \n",
      "\n",
      "[502 rows x 6 columns]\n",
      "Średnia cena za mieszkanie: 392863.1770916335\n",
      "Średnia cena za metr kwadrat: 6784.199203187251\n",
      "Średni metraż mieszkania: 59.47011952191235\n",
      "----------------------------------------------------------------\n",
      "Mediana cena za mieszkanie: 339500.0\n",
      "Mediana cena za metr kwadrat: 6513.0\n",
      "Mediana metraż mieszkania: 52.15\n"
     ]
    }
   ],
   "source": [
    "import pandas as pd\n",
    "\n",
    "housing_market = pd.read_csv('mieszkanie_slaskie.csv')\n",
    "housing_market['cena'] = housing_market['cena'].astype('float64')\n",
    "housing_market = housing_market.dropna()\n",
    "print(housing_market)\n",
    "\n",
    "print(f\"Średnia cena za mieszkanie: {housing_market['cena'].mean()}\")\n",
    "print(f\"Średnia cena za metr kwadrat: {housing_market['cena_m2'].mean()}\")\n",
    "print(f\"Średni metraż mieszkania: {housing_market['przestrzeń_m2'].mean()}\")\n",
    "print(\"----------------------------------------------------------------\")\n",
    "print(f\"Mediana cena za mieszkanie: {housing_market['cena'].median()}\")\n",
    "print(f\"Mediana cena za metr kwadrat: {housing_market['cena_m2'].median()}\")\n",
    "print(f\"Mediana metraż mieszkania: {housing_market['przestrzeń_m2'].median()}\")"
   ]
  },
  {
   "cell_type": "code",
   "execution_count": null,
   "id": "6f1bfa7c-2cbc-4b4f-ae60-7e6a0bec1f67",
   "metadata": {},
   "outputs": [],
   "source": []
  }
 ],
 "metadata": {
  "kernelspec": {
   "display_name": "Python 3 (ipykernel)",
   "language": "python",
   "name": "python3"
  },
  "language_info": {
   "codemirror_mode": {
    "name": "ipython",
    "version": 3
   },
   "file_extension": ".py",
   "mimetype": "text/x-python",
   "name": "python",
   "nbconvert_exporter": "python",
   "pygments_lexer": "ipython3",
   "version": "3.11.2"
  }
 },
 "nbformat": 4,
 "nbformat_minor": 5
}
